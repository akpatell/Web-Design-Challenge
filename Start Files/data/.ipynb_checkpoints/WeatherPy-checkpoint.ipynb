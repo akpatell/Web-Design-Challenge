{
 "cells": [
  {
   "cell_type": "markdown",
   "metadata": {},
   "source": [
    "# WeatherPy\n",
    "----\n",
    "\n",
    "#### Note\n",
    "* Instructions have been included for each segment. You do not have to follow them exactly, but they are included to help you think through the steps."
   ]
  },
  {
   "cell_type": "code",
   "execution_count": 1,
   "metadata": {
    "scrolled": true
   },
   "outputs": [],
   "source": [
    "# Dependencies and Setup\n",
    "import matplotlib.pyplot as plt\n",
    "import pandas as pd\n",
    "import numpy as np\n",
    "import requests\n",
    "import time\n",
    "import random\n",
    "from scipy.stats import linregress\n",
    "from pprint import pprint\n",
    "\n",
    "# Import API key\n",
    "from api_keys import weather_api_key\n",
    "\n",
    "# Incorporated citipy to determine city based on latitude and longitude\n",
    "from citipy import citipy\n",
    "\n",
    "# Output File (CSV)\n",
    "output_data_file = \"output_data/cities.csv\"\n",
    "\n",
    "# Range of latitudes and longitudes\n",
    "lat_range = (-90, 90)\n",
    "lng_range = (-180, 180)"
   ]
  },
  {
   "cell_type": "code",
   "execution_count": 2,
   "metadata": {},
   "outputs": [
    {
     "data": {
      "text/plain": [
       "'d46a2e4e79bb1ea72c61604da1fc17dc'"
      ]
     },
     "execution_count": 2,
     "metadata": {},
     "output_type": "execute_result"
    }
   ],
   "source": [
    "weather_api_key"
   ]
  },
  {
   "cell_type": "markdown",
   "metadata": {},
   "source": [
    "## Generate Cities List"
   ]
  },
  {
   "cell_type": "code",
   "execution_count": 3,
   "metadata": {},
   "outputs": [
    {
     "data": {
      "text/plain": [
       "636"
      ]
     },
     "execution_count": 3,
     "metadata": {},
     "output_type": "execute_result"
    }
   ],
   "source": [
    "# List for holding lat_lngs and cities\n",
    "lat_lngs = []\n",
    "cities = []\n",
    "\n",
    "# Create a set of random lat and lng combinations\n",
    "lats = np.random.uniform(lat_range[0], lat_range[1], size=1500)\n",
    "lngs = np.random.uniform(lng_range[0], lng_range[1], size=1500)\n",
    "lat_lngs = zip(lats, lngs)\n",
    "\n",
    "# Identify nearest city for each lat, lng combination\n",
    "for lat_lng in lat_lngs:\n",
    "    city = citipy.nearest_city(lat_lng[0], lat_lng[1]).city_name\n",
    "    \n",
    "    # If the city is unique, then add it to a our cities list\n",
    "    if city not in cities:\n",
    "        cities.append(city)\n",
    "\n",
    "# Print the city count to confirm sufficient count\n",
    "len(cities)"
   ]
  },
  {
   "cell_type": "markdown",
   "metadata": {},
   "source": [
    "### Perform API Calls\n",
    "* Perform a weather check on each city using a series of successive API calls.\n",
    "* Include a print log of each city as it'sbeing processed (with the city number and city name).\n"
   ]
  },
  {
   "cell_type": "code",
   "execution_count": 4,
   "metadata": {},
   "outputs": [
    {
     "name": "stdout",
     "output_type": "stream",
     "text": [
      "{'base': 'stations',\n",
      " 'clouds': {'all': 100},\n",
      " 'cod': 200,\n",
      " 'coord': {'lat': -54.8, 'lon': -68.3},\n",
      " 'dt': 1667579767,\n",
      " 'id': 3833367,\n",
      " 'main': {'feels_like': 43.95,\n",
      "          'humidity': 71,\n",
      "          'pressure': 1006,\n",
      "          'temp': 49.66,\n",
      "          'temp_max': 49.66,\n",
      "          'temp_min': 49.62},\n",
      " 'name': 'Ushuaia',\n",
      " 'sys': {'country': 'AR',\n",
      "         'id': 8303,\n",
      "         'sunrise': 1667551092,\n",
      "         'sunset': 1667606117,\n",
      "         'type': 1},\n",
      " 'timezone': -10800,\n",
      " 'visibility': 10000,\n",
      " 'weather': [{'description': 'light intensity drizzle',\n",
      "              'icon': '09d',\n",
      "              'id': 300,\n",
      "              'main': 'Drizzle'}],\n",
      " 'wind': {'deg': 250, 'speed': 16.11}}\n"
     ]
    }
   ],
   "source": [
    "url = \"https://api.openweathermap.org/data/2.5/weather?\"\n",
    "units = \"imperial\"\n",
    "city = 'ushuaia'\n",
    "\n",
    "query_url = f\"{url}appid={weather_api_key}&units={units}&q={city}\"\n",
    "response = requests.get(query_url).json()\n",
    "pprint(response)"
   ]
  },
  {
   "cell_type": "code",
   "execution_count": null,
   "metadata": {
    "scrolled": true
   },
   "outputs": [
    {
     "name": "stdout",
     "output_type": "stream",
     "text": [
      "Beginning Data Retrieval\n",
      "-----------------------------\n",
      "Processing city #1 of Set #1 | artyk\n",
      "artyk not found. Skipping...\n",
      "Processing city #2 of Set #1 | srednekolymsk\n",
      "Processing city #3 of Set #1 | whitianga\n",
      "Processing city #4 of Set #1 | port augusta\n",
      "Processing city #5 of Set #1 | chimbote\n",
      "Processing city #6 of Set #1 | vanimo\n",
      "Processing city #7 of Set #1 | benjamin constant\n",
      "Processing city #8 of Set #1 | talakan\n",
      "Processing city #9 of Set #1 | broome\n",
      "Processing city #10 of Set #1 | gazojak\n",
      "Processing city #11 of Set #1 | provideniya\n",
      "Processing city #12 of Set #1 | kikwit\n",
      "Processing city #13 of Set #1 | ponta do sol\n",
      "Processing city #14 of Set #1 | ahar\n",
      "Processing city #15 of Set #1 | batagay\n",
      "Processing city #16 of Set #1 | thompson\n",
      "Processing city #17 of Set #1 | denpasar\n",
      "Processing city #18 of Set #1 | rohru\n",
      "Processing city #19 of Set #1 | severo-kurilsk\n",
      "Processing city #20 of Set #1 | zyryanovsk\n",
      "Processing city #21 of Set #1 | rikitea\n",
      "Processing city #22 of Set #1 | ushuaia\n",
      "Processing city #23 of Set #1 | bluff\n",
      "Processing city #24 of Set #1 | mataura\n",
      "Processing city #25 of Set #1 | new norfolk\n",
      "Processing city #26 of Set #1 | kloulklubed\n",
      "Processing city #27 of Set #1 | springbok\n",
      "Processing city #28 of Set #1 | halalo\n",
      "halalo not found. Skipping...\n",
      "Processing city #29 of Set #1 | nikolskoye\n",
      "Processing city #30 of Set #1 | kemijarvi\n",
      "Processing city #31 of Set #1 | kuryk\n",
      "Processing city #32 of Set #1 | port elizabeth\n",
      "Processing city #33 of Set #1 | mahebourg\n",
      "Processing city #34 of Set #1 | souillac\n",
      "Processing city #35 of Set #1 | iqaluit\n",
      "Processing city #36 of Set #1 | cidreira\n",
      "Processing city #37 of Set #1 | pecos\n",
      "Processing city #38 of Set #1 | middlebury\n",
      "Processing city #39 of Set #1 | tual\n",
      "Processing city #40 of Set #1 | sochi\n",
      "Processing city #41 of Set #1 | abu samrah\n",
      "Processing city #42 of Set #1 | talcahuano\n",
      "Processing city #43 of Set #1 | gasa\n",
      "Processing city #44 of Set #1 | nantucket\n",
      "Processing city #45 of Set #1 | carnarvon\n",
      "Processing city #46 of Set #1 | hermanus\n",
      "Processing city #47 of Set #1 | punta arenas\n",
      "Processing city #48 of Set #1 | alcudia\n",
      "Processing city #49 of Set #1 | nanortalik\n",
      "Processing city #50 of Set #1 | atuona\n",
      "Processing city #1 of Set #2 | cape town\n",
      "Processing city #2 of Set #2 | chiredzi\n",
      "Processing city #3 of Set #2 | kokopo\n",
      "Processing city #4 of Set #2 | paamiut\n",
      "Processing city #5 of Set #2 | faanui\n",
      "Processing city #6 of Set #2 | mount isa\n",
      "Processing city #7 of Set #2 | mayumba\n",
      "Processing city #8 of Set #2 | hami\n",
      "Processing city #9 of Set #2 | plattsburgh\n",
      "Processing city #10 of Set #2 | san luis\n",
      "Processing city #11 of Set #2 | nipawin\n",
      "Processing city #12 of Set #2 | san pedro\n",
      "Processing city #13 of Set #2 | ribeira grande\n",
      "Processing city #14 of Set #2 | huinan\n",
      "Processing city #15 of Set #2 | norman wells\n",
      "Processing city #16 of Set #2 | westport\n",
      "Processing city #17 of Set #2 | kavieng\n",
      "Processing city #18 of Set #2 | ormara\n",
      "Processing city #19 of Set #2 | barrow\n",
      "Processing city #20 of Set #2 | huaihua\n",
      "Processing city #21 of Set #2 | port alfred\n",
      "Processing city #22 of Set #2 | katsuura\n",
      "Processing city #23 of Set #2 | beaverlodge\n",
      "Processing city #24 of Set #2 | bonthe\n",
      "Processing city #25 of Set #2 | camacha\n",
      "Processing city #26 of Set #2 | bambous virieux\n",
      "Processing city #27 of Set #2 | jijiga\n",
      "Processing city #28 of Set #2 | kostino\n",
      "Processing city #29 of Set #2 | hobart\n",
      "Processing city #30 of Set #2 | narsaq\n",
      "Processing city #31 of Set #2 | kapaa\n",
      "Processing city #32 of Set #2 | acari\n",
      "Processing city #33 of Set #2 | borba\n",
      "Processing city #34 of Set #2 | taolanaro\n",
      "taolanaro not found. Skipping...\n",
      "Processing city #35 of Set #2 | spirit river\n",
      "Processing city #36 of Set #2 | sanguem\n",
      "Processing city #37 of Set #2 | bargal\n",
      "bargal not found. Skipping...\n",
      "Processing city #38 of Set #2 | cabo san lucas\n",
      "Processing city #39 of Set #2 | sorland\n",
      "Processing city #40 of Set #2 | albany\n",
      "Processing city #41 of Set #2 | saint-louis\n",
      "Processing city #42 of Set #2 | okha\n",
      "Processing city #43 of Set #2 | okhotsk\n",
      "Processing city #44 of Set #2 | bredasdorp\n",
      "Processing city #45 of Set #2 | saint anthony\n",
      "Processing city #46 of Set #2 | manoel urbano\n",
      "Processing city #47 of Set #2 | san ramon\n",
      "Processing city #48 of Set #2 | alice springs\n",
      "Processing city #49 of Set #2 | tiksi\n",
      "Processing city #50 of Set #2 | khatanga\n",
      "Processing city #1 of Set #3 | kelso\n",
      "Processing city #2 of Set #3 | ous\n",
      "Processing city #3 of Set #3 | vaini\n",
      "Processing city #4 of Set #3 | kaitangata\n",
      "Processing city #5 of Set #3 | hirtshals\n",
      "Processing city #6 of Set #3 | sao joao da barra\n",
      "Processing city #7 of Set #3 | baculin\n",
      "Processing city #8 of Set #3 | chuy\n",
      "Processing city #9 of Set #3 | alofi\n",
      "Processing city #10 of Set #3 | vostok\n",
      "Processing city #11 of Set #3 | samdrup jongkhar\n",
      "Processing city #12 of Set #3 | poum\n",
      "Processing city #13 of Set #3 | methoni\n",
      "Processing city #14 of Set #3 | tumannyy\n",
      "tumannyy not found. Skipping...\n",
      "Processing city #15 of Set #3 | mitu\n",
      "Processing city #16 of Set #3 | east london\n",
      "Processing city #17 of Set #3 | coulihaut\n",
      "coulihaut not found. Skipping...\n",
      "Processing city #18 of Set #3 | achisay\n",
      "achisay not found. Skipping...\n",
      "Processing city #19 of Set #3 | shumikha\n",
      "Processing city #20 of Set #3 | ayr\n",
      "Processing city #21 of Set #3 | dunedin\n",
      "Processing city #22 of Set #3 | busselton\n",
      "Processing city #23 of Set #3 | kodiak\n",
      "Processing city #24 of Set #3 | saldanha\n",
      "Processing city #25 of Set #3 | rocha\n",
      "Processing city #26 of Set #3 | mutsamudu\n",
      "mutsamudu not found. Skipping...\n",
      "Processing city #27 of Set #3 | lerwick\n",
      "Processing city #28 of Set #3 | shido\n",
      "Processing city #29 of Set #3 | sladkovo\n",
      "Processing city #30 of Set #3 | chifeng\n",
      "Processing city #31 of Set #3 | ilulissat\n",
      "Processing city #32 of Set #3 | namagiripettai\n",
      "Processing city #33 of Set #3 | palmer\n",
      "Processing city #34 of Set #3 | georgetown\n",
      "Processing city #35 of Set #3 | shingu\n",
      "Processing city #36 of Set #3 | avarua\n",
      "Processing city #37 of Set #3 | glendive\n",
      "Processing city #38 of Set #3 | amderma\n",
      "amderma not found. Skipping...\n",
      "Processing city #39 of Set #3 | saint george\n",
      "Processing city #40 of Set #3 | pribelskiy\n",
      "pribelskiy not found. Skipping...\n",
      "Processing city #41 of Set #3 | yellowknife\n",
      "Processing city #42 of Set #3 | kirac\n",
      "kirac not found. Skipping...\n",
      "Processing city #43 of Set #3 | te anau\n",
      "Processing city #44 of Set #3 | la sarre\n",
      "Processing city #45 of Set #3 | geraldton\n",
      "Processing city #46 of Set #3 | koroni\n",
      "Processing city #47 of Set #3 | tezu\n",
      "Processing city #48 of Set #3 | kaeo\n",
      "Processing city #49 of Set #3 | deputatskiy\n",
      "Processing city #50 of Set #3 | lubao\n",
      "Processing city #1 of Set #4 | acapulco\n",
      "Processing city #2 of Set #4 | lugoba\n",
      "Processing city #3 of Set #4 | waddan\n",
      "Processing city #4 of Set #4 | pevek\n",
      "Processing city #5 of Set #4 | saint-philippe\n",
      "Processing city #6 of Set #4 | butaritari\n",
      "Processing city #7 of Set #4 | tuktoyaktuk\n",
      "Processing city #8 of Set #4 | zabaykalsk\n",
      "Processing city #9 of Set #4 | sentyabrskiy\n",
      "sentyabrskiy not found. Skipping...\n",
      "Processing city #10 of Set #4 | quime\n",
      "Processing city #11 of Set #4 | arraial do cabo\n",
      "Processing city #12 of Set #4 | puerto ayora\n",
      "Processing city #13 of Set #4 | castro\n",
      "Processing city #14 of Set #4 | lebu\n",
      "Processing city #15 of Set #4 | marsaxlokk\n",
      "Processing city #16 of Set #4 | lagoa\n",
      "Processing city #17 of Set #4 | vila velha\n",
      "Processing city #18 of Set #4 | kenai\n",
      "Processing city #19 of Set #4 | saskylakh\n",
      "Processing city #20 of Set #4 | muisne\n",
      "Processing city #21 of Set #4 | jamestown\n",
      "Processing city #22 of Set #4 | hammerfest\n",
      "Processing city #23 of Set #4 | sapao\n",
      "sapao not found. Skipping...\n",
      "Processing city #24 of Set #4 | imeni poliny osipenko\n",
      "Processing city #25 of Set #4 | moiyabana\n",
      "moiyabana not found. Skipping...\n",
      "Processing city #26 of Set #4 | trelew\n",
      "Processing city #27 of Set #4 | sao filipe\n",
      "Processing city #28 of Set #4 | nalut\n",
      "Processing city #29 of Set #4 | bhadrachalam\n",
      "Processing city #30 of Set #4 | mar del plata\n",
      "Processing city #31 of Set #4 | richards bay\n",
      "Processing city #32 of Set #4 | ures\n",
      "Processing city #33 of Set #4 | klaksvik\n",
      "Processing city #34 of Set #4 | nouna\n",
      "Processing city #35 of Set #4 | general roca\n",
      "Processing city #36 of Set #4 | asau\n",
      "Processing city #37 of Set #4 | kahului\n",
      "Processing city #38 of Set #4 | tuatapere\n"
     ]
    },
    {
     "name": "stdout",
     "output_type": "stream",
     "text": [
      "Processing city #39 of Set #4 | wadi maliz\n",
      "Processing city #40 of Set #4 | guerrero negro\n",
      "Processing city #41 of Set #4 | bethel\n",
      "Processing city #42 of Set #4 | miranorte\n"
     ]
    }
   ],
   "source": [
    "# set up list to hold reponse info\n",
    "city_data = []\n",
    "\n",
    "# set up counters\n",
    "city_counter = 1\n",
    "set_counter = 1\n",
    "\n",
    "# Save config information.\n",
    "url = \"https://api.openweathermap.org/data/2.5/weather?\"\n",
    "units = \"imperial\"\n",
    "\n",
    "# print beginning statement\n",
    "print(f\"Beginning Data Retrieval\")     \n",
    "print(f\"-----------------------------\")\n",
    "\n",
    "# Loop through the list of cities and get latitude, longitude, max temperature, humidity, cloudiness, wind speed for cities\n",
    "for i, city in enumerate(cities):\n",
    "   \n",
    "    # Build partial query URL\n",
    "    query_url = f\"{url}appid={weather_api_key}&units={units}&q={city}\"\n",
    "    \n",
    "    # group the cities in sets of 50 for 13 sets\n",
    "    if(i % 50 == 0 and i >=50):\n",
    "        # reset the group or set \n",
    "        # add time to avoid blowing out API key \n",
    "        time.sleep(2)\n",
    "        \n",
    "        set_counter += 1\n",
    "        city_counter = 1\n",
    "\n",
    "    # print the city # and city along with its set number     \n",
    "    print(f\"Processing city #{city_counter} of Set #{set_counter} | {city}\")\n",
    "    city_counter += 1\n",
    "\n",
    "\n",
    "# print(query_url)\n",
    "    try:\n",
    "        \n",
    "        # jsonify response\n",
    "        response = requests.get(query_url).json()\n",
    "\n",
    "        # append data to respective lists\"\n",
    "        lat = response['coord']['lat']\n",
    "        lng = response['coord']['lon']\n",
    "        temp_max = response['main']['temp_max']\n",
    "        humidity = response['main']['humidity']\n",
    "        cloud = response['clouds']['all']\n",
    "        wind = response['wind']['speed']\n",
    "        date = response['dt']\n",
    "        country = response['sys']['country']\n",
    "\n",
    "        #append the city information to city_data list\n",
    "        city_data.append({\"City\": city,\n",
    "                          \"Lat\": lat,\n",
    "                          \"Lng\": lng,\n",
    "                          \"Max Temp\": temp_max,\n",
    "                          \"Humidity\": humidity,\n",
    "                          \"Cloudiness\": cloud,\n",
    "                          \"Wind Speed\": wind,\n",
    "                          \"Country\": country, \n",
    "                          \"Date\": date})\n",
    "\n",
    "    except:\n",
    "        print(f\"{city} not found. Skipping...\")\n",
    "        pass\n",
    "\n",
    "print(f\"-----------------------------\")\n",
    "print(f\"Data Retrieval Complete\")      \n",
    "print(f\"-----------------------------\")\n",
    "        "
   ]
  },
  {
   "cell_type": "code",
   "execution_count": null,
   "metadata": {
    "scrolled": true
   },
   "outputs": [],
   "source": []
  },
  {
   "cell_type": "markdown",
   "metadata": {},
   "source": [
    "### Convert Raw Data to DataFrame\n",
    "* Export the city data into a .csv.\n",
    "* Display the DataFrame"
   ]
  },
  {
   "cell_type": "code",
   "execution_count": null,
   "metadata": {},
   "outputs": [],
   "source": [
    "# pd.DataFrame([{}, {}])\n",
    "\n",
    "# pd.DataFrame({'col1': [], 'col2':[]})"
   ]
  },
  {
   "cell_type": "code",
   "execution_count": null,
   "metadata": {
    "scrolled": true
   },
   "outputs": [],
   "source": [
    "weatherDF = pd.DataFrame(city_data)\n",
    "weatherDF"
   ]
  },
  {
   "cell_type": "code",
   "execution_count": null,
   "metadata": {
    "scrolled": false
   },
   "outputs": [],
   "source": []
  },
  {
   "cell_type": "code",
   "execution_count": null,
   "metadata": {},
   "outputs": [],
   "source": [
    "weatherDF.describe()"
   ]
  },
  {
   "cell_type": "code",
   "execution_count": null,
   "metadata": {
    "scrolled": false
   },
   "outputs": [],
   "source": []
  },
  {
   "cell_type": "markdown",
   "metadata": {},
   "source": [
    "## Inspect the data and remove the cities where the humidity > 100%.\n",
    "----\n",
    "Skip this step if there are no cities that have humidity > 100%. "
   ]
  },
  {
   "cell_type": "code",
   "execution_count": null,
   "metadata": {},
   "outputs": [],
   "source": []
  },
  {
   "cell_type": "code",
   "execution_count": null,
   "metadata": {},
   "outputs": [],
   "source": [
    "#  Get the indices of cities that have humidity over 100%.\n"
   ]
  },
  {
   "cell_type": "code",
   "execution_count": null,
   "metadata": {},
   "outputs": [],
   "source": [
    "# Make a new DataFrame equal to the city data to drop all humidity outliers by index.\n",
    "# Passing \"inplace=False\" will make a copy of the city_data DataFrame, which we call \"clean_city_data\".\n"
   ]
  },
  {
   "cell_type": "code",
   "execution_count": null,
   "metadata": {},
   "outputs": [],
   "source": [
    "\n"
   ]
  },
  {
   "cell_type": "markdown",
   "metadata": {},
   "source": [
    "## Plotting the Data\n",
    "* Use proper labeling of the plots using plot titles (including date of analysis) and axes labels.\n",
    "* Save the plotted figures as .pngs."
   ]
  },
  {
   "cell_type": "markdown",
   "metadata": {},
   "source": [
    "## Latitude vs. Temperature Plot"
   ]
  },
  {
   "cell_type": "code",
   "execution_count": null,
   "metadata": {
    "scrolled": true
   },
   "outputs": [],
   "source": []
  },
  {
   "cell_type": "markdown",
   "metadata": {},
   "source": [
    "## Latitude vs. Humidity Plot"
   ]
  },
  {
   "cell_type": "code",
   "execution_count": null,
   "metadata": {},
   "outputs": [],
   "source": []
  },
  {
   "cell_type": "markdown",
   "metadata": {},
   "source": [
    "## Latitude vs. Cloudiness Plot"
   ]
  },
  {
   "cell_type": "code",
   "execution_count": null,
   "metadata": {},
   "outputs": [],
   "source": []
  },
  {
   "cell_type": "markdown",
   "metadata": {},
   "source": [
    "## Latitude vs. Wind Speed Plot"
   ]
  },
  {
   "cell_type": "code",
   "execution_count": null,
   "metadata": {},
   "outputs": [],
   "source": []
  },
  {
   "cell_type": "markdown",
   "metadata": {},
   "source": [
    "## Linear Regression"
   ]
  },
  {
   "cell_type": "code",
   "execution_count": null,
   "metadata": {},
   "outputs": [],
   "source": []
  },
  {
   "cell_type": "markdown",
   "metadata": {},
   "source": [
    "####  Northern Hemisphere - Max Temp vs. Latitude Linear Regression"
   ]
  },
  {
   "cell_type": "code",
   "execution_count": null,
   "metadata": {},
   "outputs": [],
   "source": []
  },
  {
   "cell_type": "markdown",
   "metadata": {},
   "source": [
    "####  Southern Hemisphere - Max Temp vs. Latitude Linear Regression"
   ]
  },
  {
   "cell_type": "code",
   "execution_count": null,
   "metadata": {},
   "outputs": [],
   "source": []
  },
  {
   "cell_type": "markdown",
   "metadata": {},
   "source": [
    "####  Northern Hemisphere - Humidity (%) vs. Latitude Linear Regression"
   ]
  },
  {
   "cell_type": "code",
   "execution_count": null,
   "metadata": {},
   "outputs": [],
   "source": []
  },
  {
   "cell_type": "markdown",
   "metadata": {},
   "source": [
    "####  Southern Hemisphere - Humidity (%) vs. Latitude Linear Regression"
   ]
  },
  {
   "cell_type": "code",
   "execution_count": null,
   "metadata": {},
   "outputs": [],
   "source": []
  },
  {
   "cell_type": "markdown",
   "metadata": {},
   "source": [
    "####  Northern Hemisphere - Cloudiness (%) vs. Latitude Linear Regression"
   ]
  },
  {
   "cell_type": "code",
   "execution_count": null,
   "metadata": {},
   "outputs": [],
   "source": []
  },
  {
   "cell_type": "markdown",
   "metadata": {},
   "source": [
    "####  Southern Hemisphere - Cloudiness (%) vs. Latitude Linear Regression"
   ]
  },
  {
   "cell_type": "code",
   "execution_count": null,
   "metadata": {},
   "outputs": [],
   "source": []
  },
  {
   "cell_type": "markdown",
   "metadata": {},
   "source": [
    "####  Northern Hemisphere - Wind Speed (mph) vs. Latitude Linear Regression"
   ]
  },
  {
   "cell_type": "code",
   "execution_count": null,
   "metadata": {},
   "outputs": [],
   "source": []
  },
  {
   "cell_type": "markdown",
   "metadata": {},
   "source": [
    "####  Southern Hemisphere - Wind Speed (mph) vs. Latitude Linear Regression"
   ]
  },
  {
   "cell_type": "code",
   "execution_count": null,
   "metadata": {},
   "outputs": [],
   "source": []
  },
  {
   "cell_type": "code",
   "execution_count": null,
   "metadata": {},
   "outputs": [],
   "source": []
  }
 ],
 "metadata": {
  "anaconda-cloud": {},
  "kernel_info": {
   "name": "python3"
  },
  "kernelspec": {
   "display_name": "Python 3 (ipykernel)",
   "language": "python",
   "name": "python3"
  },
  "language_info": {
   "codemirror_mode": {
    "name": "ipython",
    "version": 3
   },
   "file_extension": ".py",
   "mimetype": "text/x-python",
   "name": "python",
   "nbconvert_exporter": "python",
   "pygments_lexer": "ipython3",
   "version": "3.9.7"
  },
  "latex_envs": {
   "LaTeX_envs_menu_present": true,
   "autoclose": false,
   "autocomplete": true,
   "bibliofile": "biblio.bib",
   "cite_by": "apalike",
   "current_citInitial": 1,
   "eqLabelWithNumbers": true,
   "eqNumInitial": 1,
   "hotkeys": {
    "equation": "Ctrl-E",
    "itemize": "Ctrl-I"
   },
   "labels_anchors": false,
   "latex_user_defs": false,
   "report_style_numbering": false,
   "user_envs_cfg": false
  },
  "nteract": {
   "version": "0.12.3"
  }
 },
 "nbformat": 4,
 "nbformat_minor": 2
}
